{
 "cells": [
  {
   "cell_type": "code",
   "execution_count": 15,
   "metadata": {},
   "outputs": [],
   "source": [
    "import cv2\n",
    "import numpy as np\n",
    "import matplotlib.pyplot as plt\n",
    "%matplotlib inline"
   ]
  },
  {
   "cell_type": "code",
   "execution_count": 16,
   "metadata": {},
   "outputs": [],
   "source": [
    "def roi(target):\n",
    "    # define L and R ROI section.\n",
    "    lpts = np.array([[280, 717],[570, 500],[620, 500],[380, 717]], np.int32)    \n",
    "    rpts = np.array([[880, 717],[660, 500],[730, 500],[1020, 717]], np.int32)\n",
    "    mask = np.zeros_like(target)\n",
    "    cv2.fillConvexPoly(mask, lpts, (255,255,255))\n",
    "    cv2.fillConvexPoly(mask, rpts, (255,255,255))\n",
    "    masked = cv2.bitwise_and(target, mask)\n",
    "    return masked"
   ]
  },
  {
   "cell_type": "code",
   "execution_count": 19,
   "metadata": {},
   "outputs": [],
   "source": [
    "# video source input here.\n",
    "src = './src/source_1.mp4'\n",
    "\n",
    "# define window size\n",
    "h, w = (640, 360)\n",
    "\n",
    "cap = cv2.VideoCapture(src)\n",
    "\n",
    "while True:\n",
    "\n",
    "    ret, frame = cap.read()\n",
    "    if not ret:\n",
    "        break\n",
    "\n",
    "    cv2.imwrite('origin_src.png', frame)\n",
    "    \n",
    "    gray = cv2.cvtColor(frame, cv2.COLOR_BGR2GRAY)\n",
    "    \n",
    "    blurred = cv2.GaussianBlur(gray, (5,5), 0)\n",
    "\n",
    "    edges = cv2.Canny(blurred, 100,100) # canny edges\n",
    "    roi_frame = roi(edges)  # roi edges\n",
    "    view_frame = roi(blurred)   # blurred frame\n",
    "    contours, hierachy = cv2.findContours(roi_frame, cv2.RETR_LIST, cv2.CHAIN_APPROX_SIMPLE)\n",
    "    cv2.drawContours(frame, contours, -1, (255,0,0), 0)\n",
    "\n",
    "    # window panel ratio keeping.\n",
    "    cv2.namedWindow(\"ROI_View\", cv2.WINDOW_KEEPRATIO)   \n",
    "    cv2.namedWindow(\"Canny\", cv2.WINDOW_KEEPRATIO)\n",
    "    cv2.namedWindow(\"Canny_Edges\", cv2.WINDOW_KEEPRATIO)\n",
    "    cv2.namedWindow(\"Frame\", cv2.WINDOW_KEEPRATIO)\n",
    "\n",
    "    cv2.imshow(\"ROI_View\", view_frame)\n",
    "    cv2.resizeWindow(\"ROI_View\", h, w)\n",
    "    cv2.imshow(\"Canny\", edges)\n",
    "    cv2.resizeWindow(\"Canny\", h, w)\n",
    "    cv2.imshow(\"Canny_Edges\", roi_frame)\n",
    "    cv2.resizeWindow(\"Canny_Edges\", h, w)\n",
    "    cv2.imshow('Frame', frame)\n",
    "    cv2.resizeWindow(\"Frame\", h, w)\n",
    "\n",
    "    key = cv2.waitKey(13) \n",
    "    if key == 27:\n",
    "        break   \n",
    "    \n",
    "cap.release()\n",
    "cv2.destroyAllWindows()"
   ]
  },
  {
   "cell_type": "code",
   "execution_count": 20,
   "metadata": {},
   "outputs": [
    {
     "data": {
      "text/plain": [
       "True"
      ]
     },
     "execution_count": 20,
     "metadata": {},
     "output_type": "execute_result"
    }
   ],
   "source": [
    "cv2.imwrite('./pipeline_img/drawing_contours.png', frame)"
   ]
  }
 ],
 "metadata": {
  "kernelspec": {
   "display_name": "ldetect",
   "language": "python",
   "name": "python3"
  },
  "language_info": {
   "codemirror_mode": {
    "name": "ipython",
    "version": 3
   },
   "file_extension": ".py",
   "mimetype": "text/x-python",
   "name": "python",
   "nbconvert_exporter": "python",
   "pygments_lexer": "ipython3",
   "version": "3.8.16"
  },
  "orig_nbformat": 4,
  "vscode": {
   "interpreter": {
    "hash": "90a238fe79f1347d4631ff185a4facbac5bfb4af2fa9188268dfa51c03f71237"
   }
  }
 },
 "nbformat": 4,
 "nbformat_minor": 2
}
