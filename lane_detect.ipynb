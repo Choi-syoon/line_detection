{
 "cells": [
  {
   "cell_type": "code",
   "execution_count": 1,
   "metadata": {},
   "outputs": [],
   "source": [
    "import cv2\n",
    "import numpy as np\n",
    "import matplotlib.pyplot as plt\n",
    "%matplotlib inline"
   ]
  },
  {
   "cell_type": "code",
   "execution_count": 2,
   "metadata": {},
   "outputs": [],
   "source": [
    "def roi(target):\n",
    "    pts = np.array([[290, 717],[570, 500],[720, 500],[1000, 717]], np.int32)    # ROI 영역 지정\n",
    "    mask = np.zeros_like(target)\n",
    "    cv2.fillConvexPoly(mask, pts, (255,255,255))\n",
    "    masked = cv2.bitwise_and(target, mask)\n",
    "    return masked"
   ]
  },
  {
   "cell_type": "code",
   "execution_count": 21,
   "metadata": {},
   "outputs": [],
   "source": [
    "video = './video_src/drive_trim.mp4'\n",
    "\n",
    "h, w = (640, 360)\n",
    "\n",
    "cap = cv2.VideoCapture(video)\n",
    "\n",
    "while True:\n",
    "\n",
    "    ret, t_frame = cap.read()\n",
    "    # Gray Scale 변환\n",
    "    gray = cv2.cvtColor(t_frame, cv2.COLOR_BGR2GRAY)\n",
    "    # GaussianBluring\n",
    "    blurred = cv2.GaussianBlur(gray, (5,5), 0)\n",
    "\n",
    "    edges = cv2.Canny(blurred, 100,100)\n",
    "    roi_frame = roi(edges)\n",
    "    view_frame = roi(blurred)\n",
    "    contours, hierachy = cv2.findContours(roi_frame, cv2.RETR_LIST, cv2.CHAIN_APPROX_SIMPLE)\n",
    "    cv2.drawContours(t_frame, contours, -1, (255,0,0), 0)\n",
    "    \n",
    "    cv2.namedWindow(\"ROI_View\", cv2.WINDOW_KEEPRATIO)   # WINDOW_KEEPRATIO - window size가 바뀔때의 비율 고정.\n",
    "    cv2.namedWindow(\"Canny\", cv2.WINDOW_KEEPRATIO)\n",
    "    cv2.namedWindow(\"Canny_Edges\", cv2.WINDOW_KEEPRATIO)\n",
    "    cv2.namedWindow(\"Frame\", cv2.WINDOW_KEEPRATIO)\n",
    "\n",
    "    cv2.imshow(\"ROI_View\", view_frame)\n",
    "    cv2.resizeWindow(\"ROI_View\", h, w)\n",
    "\n",
    "    cv2.imshow(\"Canny\", edges)\n",
    "    cv2.resizeWindow(\"Canny\", h, w)\n",
    "\n",
    "    cv2.imshow(\"Canny_Edges\", roi_frame)\n",
    "    cv2.resizeWindow(\"Canny_Edges\", h, w)\n",
    "\n",
    "    cv2.imshow('Frame', t_frame)\n",
    "    cv2.resizeWindow(\"Frame\", h, w)\n",
    "\n",
    "    key = cv2.waitKey(13) \n",
    "    if key == 27:\n",
    "        break   \n",
    "    \n",
    "cap.release()\n",
    "cv2.destroyAllWindows()"
   ]
  }
 ],
 "metadata": {
  "kernelspec": {
   "display_name": "ldetect",
   "language": "python",
   "name": "python3"
  },
  "language_info": {
   "codemirror_mode": {
    "name": "ipython",
    "version": 3
   },
   "file_extension": ".py",
   "mimetype": "text/x-python",
   "name": "python",
   "nbconvert_exporter": "python",
   "pygments_lexer": "ipython3",
   "version": "3.8.16"
  },
  "orig_nbformat": 4,
  "vscode": {
   "interpreter": {
    "hash": "3b1f29b52f0f46b43514b211acc9543317e765de795b633d628be3c5a0548d73"
   }
  }
 },
 "nbformat": 4,
 "nbformat_minor": 2
}
